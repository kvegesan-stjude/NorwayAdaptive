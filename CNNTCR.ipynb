{
 "cells": [
  {
   "cell_type": "code",
   "execution_count": null,
   "id": "c51cae28-7a0a-4ad6-9cdf-e618de6073c6",
   "metadata": {},
   "outputs": [],
   "source": []
  },
  {
   "cell_type": "code",
   "execution_count": 1,
   "id": "4cd6eca7-c075-4784-885a-1151d4f8dad0",
   "metadata": {
    "tags": []
   },
   "outputs": [],
   "source": [
    "import tensorflow as tf\n",
    "\n",
    "try:\n",
    "    import tensorflow.python.keras as keras\n",
    "except:\n",
    "    import tensorflow.keras as keras\n",
    "\n",
    "from tensorflow.python.keras import layers\n",
    "from tensorflow.python.keras import backend as K\n",
    "\n",
    "from sklearn.model_selection import KFold\n",
    "\n",
    "from sklearn import metrics\n",
    "from sklearn.metrics import accuracy_score,matthews_corrcoef,classification_report,confusion_matrix,precision_score,recall_score\n",
    "from sklearn.metrics import f1_score,roc_auc_score, auc\n",
    "\n",
    "from keras import regularizers\n",
    "\n",
    "import os\n",
    "import scipy.io as sio\n",
    "from sklearn.model_selection import train_test_split\n",
    "from sklearn.preprocessing import LabelEncoder\n",
    "import numpy as np\n",
    "from tensorflow.python.keras.callbacks import ReduceLROnPlateau, ModelCheckpoint\n",
    "from keras.utils.vis_utils import plot_model\n",
    "#from tensorflow.keras.callbacks import LearningRateScheduler, ReduceLROnPlateau, ModelCheckpoint\n",
    "\n",
    "\n",
    "\n",
    "import matplotlib.pyplot as plt\n",
    "from sklearn.utils import shuffle\n",
    "\n",
    "from tensorflow.python.keras.models import load_model,Model\n",
    "\n",
    "\n",
    "import matplotlib.pyplot as plt\n",
    "\n",
    "import csv\n",
    "import pandas as pd\n",
    "tf.config.run_functions_eagerly(True)"
   ]
  },
  {
   "cell_type": "code",
   "execution_count": 2,
   "id": "8f592cc5-3212-4a68-b53c-900c18f850da",
   "metadata": {},
   "outputs": [],
   "source": [
    "def AA_CHEM(AA):\n",
    "    \n",
    "    AA_CHEM_dict = {\n",
    "        'A':[-0.591, -1.302, -0.733, 1.57, -0.146, 0.62, -0.5, 15, 2.35, 9.87, 6.11, -1.338, -3.102, 0.52, 1.18, 4.349, -0.368, 0.36, 0.67, -9.475], \n",
    "        'C':[-1.343, 0.465, -0.862, -1.02, -0.255, 0.29, -1, 47, 1.71, 10.78, 5.02, -1.511, 0.957, 1.12, 1.89, 4.686, 4.53, 0.70, 0.38, -12.210], \n",
    "        'D':[1.05, 0.302, -3.656, -0.259, -3.242, -0.9, 3, 59, 1.88, 9.6, 2.98, -0.204, 0.424, 0.77, 0.05, 4.765, 2.06, -1.09, -1.2, -12.144],\n",
    "        'E':[1.357, -1.453, 1.477, 0.113, -0.837, -0.74, 3, 73, 2.19, 9.67, 3.08, -0.365, 2.009, 0.76, 0.11, 4.295, 1.77, -0.83, -0.76, -13.815],\n",
    "        'F':[-1.006, -0.59, 1.891, -0.397, 0.412, 1.19, -2.5, 91, 2.58, 9.24, 5.91, 2.877, -0.466, 0.86, 1.96, 4.663, 1.06, 1.01, 2.3, -20.504],\n",
    "        'G':[-0.384, 1.652, 1.33, 1.045, 2.064, 0.48, 0, 1, 2.34, 9.6, 6.06, -1.097, -2.746, 0.56, 0.49, 3.972, -0.525, -0.82, 0, -7.592],\n",
    "        'H':[0.336, -0.417, -1.673, -1.474, -0.078, -0.4, -0.5, 82, 1.78, 8.97, 7.64, 2.269, -0.223, 0.94, 0.31, 4.630, 0, 0.16, 0.64, -17.550],\n",
    "        'I':[-1.239, -0.547, 2.131, 0.393, 0.816, 1.38, -1.8, 57, 2.32, 9.76, 6.04, -1.741, 0.424, 0.65, 1.45, 4.224, 0.791, 2.17, 1.9, -15.608],\n",
    "        'K':[1.831, -0.561, 0.533, -0.277, 1.648, -1.5, 3, 73, 2.2, 8.9, 9.47, -1.822, 3.95, 0.81, 0.06, 4.358, 0, -0.56, -0.57, -12.366],\n",
    "        'L':[-1.019, -0.987, -1.505, 1.266, -0.912, 1.06, -1.8, 57, 2.36, 9.6, 6.04, -1.741, 0.424, 0.58, 3.23, 4.385, 1.07, 1.18, 1.9, -15.728],\n",
    "        'M':[-0.663, -1.524, 2.219, -1.005, 1.212, 0.64, -1.3, 75, 2.28, 9.21, 5.74, -1.741, 2.484, 1.25, 2.67, 4.513, 0.656, 1.21, 2.4, -15.704],\n",
    "        'N':[0.945, 0.828, 1.299, -0.169, 0.933, -0.78, 0.2, 58, 2.18, 9.09, 10.76, -0.204, 0.424, 0.79, 0.23, 4.755, 0, -0.9, -0.6, -12.480],\n",
    "        'P':[0.189, 2.081, -1.628, 0.421, -1.392, 0.12, 0, 42, 1.99, 10.6, 6.3, 1.979, -2.404, 0.61, 0.76, 4.471, -2.24, -0.06, 1.2, -11.893],\n",
    "        'Q':[0.931, -0.179, -3.005, -0.503, -1.853, -0.85, 0.2, 72, 2.17, 9.13, 5.65, -0.365, 2.009, 0.86, 0.72, 4.373, 0.731, -1.05, -0.22, -13.689],\n",
    "        'R':[1.538, -0.055, 1.502, 0.44, 2.897, -2.53, 3, 101, 2.18, 9.09, 10.76, 1.169, 3.06, 0.6, 0.20, 4.396, -1.03, -0.52, -2.1, -16.225],\n",
    "        'S':[-0.228, 1.399, -4.76, 0.67, -2.647, -0.18, 0.3, 31, 2.21, 9.15, 5.68, -1.511, 0.957, 0.64, 0.97, 4.498, -0.524, -0.6, 0.01, -10.518],\n",
    "        'T':[-0.032, 0.326, 2.213, 0.908, 1.313, -0.05, -0.4, 45, 2.15, 9.12, 5.6, -1.641, -1.339, 0.56, 0.84, 4.346, 0, -1.20, 0.52, -12.369],\n",
    "        'V':[-1.337, -0.279, -0.544, 1.242, -1.262, 1.08, -1.5, 43, 2.29, 9.74, 6.02, -1.641, -1.339, 0.54, 1.08, 4.184, 0.401, 1.21, 1.5, -13.867],\n",
    "        'W':[-0.595, 0.009, 0.672, -2.128, -0.184, 0.81, -3.4, 130, 2.38, 9.39, 5.88, 5.913, -1, 1.82, 0.77, 4.702, 1.60, 1.31, 2.6, -26.166],\n",
    "        'Y':[0.26, 0.83, 3.097, -0.838, 1.512, 0.26, -2.3, 107, 2.2, 9.11, 5.63, 2.714, -0.672, 0.98, 0.39,4.604, 4.91, 1.05, 1.6, -20.232],\n",
    "        'X':[0, 0, 0, 0, 0, 0, 0, 0, 0, 0, 0, 0, 0, 0, 0, 0, 0, 0, 0, 0],\n",
    "        }\n",
    "    \n",
    "    coding_arr = np.zeros((len(AA),20),dtype=float)\n",
    "    \n",
    "    for i in range(len(AA)):\n",
    "        \n",
    "        coding_arr[i] = AA_CHEM_dict[AA[i]]\n",
    "        \n",
    "    \n",
    "    return coding_arr\n",
    "\n",
    "\n",
    "\n",
    "min_len=10\n",
    "max_len=22\n",
    "\n",
    "\n",
    "def pad_seq(element):\n",
    "    return tf.cond(tf.strings.length(element)>=10 and tf.strings.length(element)<=22,1,1)\n",
    "def make_features(features):\n",
    "    seqs=tf.strings.split(features['seq'], sep=\"_\").to_tensor()[:,0]  \n",
    "    lengths = tf.strings.length(seqs)\n",
    "    filtered_seqs = tf.boolean_mask(seqs, tf.logical_and(lengths >= 10, lengths <= 22))\n",
    "    lengths = tf.strings.length(filtered_seqs)\n",
    "    \n",
    "    longstring=tf.repeat('X',22)\n",
    "    longstring=tf.strings.reduce_join( longstring)\n",
    "    \n",
    "    padding_lengths = tf.maximum(max_len - lengths, 0)  # Calculate padding for each string\n",
    "    pos=tf.zeros_like(padding_lengths)\n",
    "    pads=tf.strings.substr(input=longstring,pos=pos,len=padding_lengths)\n",
    "   \n",
    "    padded_strings = tf.strings.join([filtered_seqs,pads],separator=\"\")\n",
    "    # filtered_seqs = tf.boolean_mask(seqs, lengths==10)\n",
    "    \n",
    "    return padded_strings\n",
    "def load_numpy_array(file_path):\n",
    "    array = np.load(file_path)  # Load using np.load\n",
    "    return array  # Return as a NumPy array"
   ]
  },
  {
   "cell_type": "code",
   "execution_count": 26,
   "id": "32dd74be-9616-4c2d-91b2-0039b1a2c7b2",
   "metadata": {
    "tags": []
   },
   "outputs": [
    {
     "name": "stderr",
     "output_type": "stream",
     "text": [
      "/home/kvegesan/.conda/envs/cuda_env/lib/python3.8/site-packages/tensorflow/python/data/ops/dataset_ops.py:4526: UserWarning: Even though the `tf.config.experimental_run_functions_eagerly` option is set, this option does not apply to tf.data functions. To force eager execution of tf.data functions, please use `tf.data.experimental.enable_debug_mode()`.\n",
      "  warnings.warn(\n"
     ]
    }
   ],
   "source": [
    "import pathlib\n",
    "seq_filepath=\"/data/norwaybatchfilesnumpy/\"\n",
    "seqfiles =  sorted(str(p) for p in pathlib.Path(seq_filepath).glob(\"seq*npy\"))\n",
    "\n",
    "validation_file= sorted(str(p) for p in pathlib.Path(seq_filepath).glob(\"seq*npy\"))[100]\n",
    "del(seqfiles[100])\n",
    "validation_data=tf.convert_to_tensor( load_numpy_array(validation_file))\n",
    "\n",
    "\n",
    "seq_ds=tf.data.Dataset.from_tensor_slices(seqfiles)\n",
    "seq_ds = seq_ds.map(lambda item:tf.numpy_function(load_numpy_array,[item],tf.double))\n",
    "seq_ds=seq_ds.padded_batch(3,padded_shapes=(None,98088),padding_values=tf.cast(0, tf.float64))\n",
    "seq_ds=seq_ds.map(lambda x:(x,x))\n",
    "# seq_ds=seq_ds.padded_batch(3,padded_shapes=(tf.,98088),padding_values=0)"
   ]
  },
  {
   "cell_type": "code",
   "execution_count": 4,
   "id": "9b041891-d198-4638-b0ff-3eddb20904f6",
   "metadata": {
    "tags": []
   },
   "outputs": [],
   "source": [
    "checkpoint_path = \"trainingv3/cp.ckpt\"\n",
    "checkpoint_dir = os.path.dirname(checkpoint_path)\n",
    "cp_callback = tf.keras.callbacks.ModelCheckpoint(filepath=checkpoint_path,\n",
    "                                                 monitor='val_loss',\n",
    "                                                 mode='min',\n",
    "                                                 save_best_only=True,\n",
    "                                                 verbose=1)"
   ]
  },
  {
   "cell_type": "code",
   "execution_count": 5,
   "id": "b18555f1-cd13-43e1-b0c5-e31bef5e61c8",
   "metadata": {},
   "outputs": [],
   "source": [
    "class Autoencoder(Model):\n",
    "    def __init__(self, latent_dim, shape):\n",
    "        \n",
    "        super(Autoencoder, self).__init__()\n",
    "        self.latent_dim = latent_dim\n",
    "        self.shape = shape\n",
    "        self.encoder = tf.keras.Sequential([\n",
    "            layers.Dense(128, activation='relu'),\n",
    "            layers.Dense(64, activation='relu'),\n",
    "            layers.Dense(latent_dim, activation='relu'),\n",
    "        ])\n",
    "        self.decoder = tf.keras.Sequential([\n",
    "            layers.Dense(64, activation='relu'),\n",
    "            layers.Dense(128, activation='relu'),\n",
    "            layers.Dense(shape, activation='sigmoid')\n",
    "        ])\n",
    "\n",
    "    def call(self, x):\n",
    "        encoded = self.encoder(x)\n",
    "        decoded = self.decoder(encoded)\n",
    "        return decoded\n",
    "\n",
    "\n",
    "shape = 440\n",
    "latent_dim = 32\n",
    "autoencoder = Autoencoder(latent_dim, shape)\n",
    "autoencoder.compile(optimizer='adam', loss='binary_crossentropy')\n"
   ]
  },
  {
   "cell_type": "code",
   "execution_count": 6,
   "id": "cb3ae4c1-e121-4683-94d2-4883890059bf",
   "metadata": {
    "tags": []
   },
   "outputs": [
    {
     "name": "stdout",
     "output_type": "stream",
     "text": [
      "Epoch 1/500\n"
     ]
    },
    {
     "ename": "InvalidArgumentError",
     "evalue": "Cannot add tensor to the batch: number of elements does not match. Shapes are: [tensor]: [98088,440], [batch]: [98022,440] [Op:IteratorGetNext]",
     "output_type": "error",
     "traceback": [
      "\u001b[0;31m---------------------------------------------------------------------------\u001b[0m",
      "\u001b[0;31mInvalidArgumentError\u001b[0m                      Traceback (most recent call last)",
      "Cell \u001b[0;32mIn[6], line 1\u001b[0m\n\u001b[0;32m----> 1\u001b[0m \u001b[43mautoencoder\u001b[49m\u001b[38;5;241;43m.\u001b[39;49m\u001b[43mfit\u001b[49m\u001b[43m(\u001b[49m\u001b[43mseq_ds\u001b[49m\u001b[43m,\u001b[49m\n\u001b[1;32m      2\u001b[0m \u001b[43m                \u001b[49m\u001b[43mepochs\u001b[49m\u001b[38;5;241;43m=\u001b[39;49m\u001b[38;5;241;43m500\u001b[39;49m\u001b[43m,\u001b[49m\u001b[43m \u001b[49m\u001b[43mvalidation_data\u001b[49m\u001b[38;5;241;43m=\u001b[39;49m\u001b[43m(\u001b[49m\u001b[43mvalidation_data\u001b[49m\u001b[43m,\u001b[49m\u001b[43m \u001b[49m\u001b[43mvalidation_data\u001b[49m\u001b[43m)\u001b[49m\u001b[43m,\u001b[49m\u001b[43mcallbacks\u001b[49m\u001b[38;5;241;43m=\u001b[39;49m\u001b[43m[\u001b[49m\u001b[43mcp_callback\u001b[49m\u001b[43m]\u001b[49m\u001b[43m)\u001b[49m\n",
      "File \u001b[0;32m~/.conda/envs/cuda_env/lib/python3.8/site-packages/tensorflow/python/keras/engine/training.py:1189\u001b[0m, in \u001b[0;36mModel.fit\u001b[0;34m(self, x, y, batch_size, epochs, verbose, callbacks, validation_split, validation_data, shuffle, class_weight, sample_weight, initial_epoch, steps_per_epoch, validation_steps, validation_batch_size, validation_freq, max_queue_size, workers, use_multiprocessing)\u001b[0m\n\u001b[1;32m   1182\u001b[0m \u001b[38;5;28;01mwith\u001b[39;00m trace\u001b[38;5;241m.\u001b[39mTrace(\n\u001b[1;32m   1183\u001b[0m     \u001b[38;5;124m'\u001b[39m\u001b[38;5;124mtrain\u001b[39m\u001b[38;5;124m'\u001b[39m,\n\u001b[1;32m   1184\u001b[0m     epoch_num\u001b[38;5;241m=\u001b[39mepoch,\n\u001b[1;32m   1185\u001b[0m     step_num\u001b[38;5;241m=\u001b[39mstep,\n\u001b[1;32m   1186\u001b[0m     batch_size\u001b[38;5;241m=\u001b[39mbatch_size,\n\u001b[1;32m   1187\u001b[0m     _r\u001b[38;5;241m=\u001b[39m\u001b[38;5;241m1\u001b[39m):\n\u001b[1;32m   1188\u001b[0m   callbacks\u001b[38;5;241m.\u001b[39mon_train_batch_begin(step)\n\u001b[0;32m-> 1189\u001b[0m   tmp_logs \u001b[38;5;241m=\u001b[39m \u001b[38;5;28;43mself\u001b[39;49m\u001b[38;5;241;43m.\u001b[39;49m\u001b[43mtrain_function\u001b[49m\u001b[43m(\u001b[49m\u001b[43miterator\u001b[49m\u001b[43m)\u001b[49m\n\u001b[1;32m   1190\u001b[0m   \u001b[38;5;28;01mif\u001b[39;00m data_handler\u001b[38;5;241m.\u001b[39mshould_sync:\n\u001b[1;32m   1191\u001b[0m     context\u001b[38;5;241m.\u001b[39masync_wait()\n",
      "File \u001b[0;32m~/.conda/envs/cuda_env/lib/python3.8/site-packages/tensorflow/python/keras/engine/training.py:859\u001b[0m, in \u001b[0;36mModel.make_train_function.<locals>.train_function\u001b[0;34m(iterator)\u001b[0m\n\u001b[1;32m    857\u001b[0m \u001b[38;5;28;01mdef\u001b[39;00m \u001b[38;5;21mtrain_function\u001b[39m(iterator):\n\u001b[1;32m    858\u001b[0m   \u001b[38;5;124;03m\"\"\"Runs a training execution with one step.\"\"\"\u001b[39;00m\n\u001b[0;32m--> 859\u001b[0m   \u001b[38;5;28;01mreturn\u001b[39;00m \u001b[43mstep_function\u001b[49m\u001b[43m(\u001b[49m\u001b[38;5;28;43mself\u001b[39;49m\u001b[43m,\u001b[49m\u001b[43m \u001b[49m\u001b[43miterator\u001b[49m\u001b[43m)\u001b[49m\n",
      "File \u001b[0;32m~/.conda/envs/cuda_env/lib/python3.8/site-packages/tensorflow/python/keras/engine/training.py:848\u001b[0m, in \u001b[0;36mModel.make_train_function.<locals>.step_function\u001b[0;34m(model, iterator)\u001b[0m\n\u001b[1;32m    845\u001b[0m     model\u001b[38;5;241m.\u001b[39m_train_counter\u001b[38;5;241m.\u001b[39massign_add(\u001b[38;5;241m1\u001b[39m)  \u001b[38;5;66;03m# pylint: disable=protected-access\u001b[39;00m\n\u001b[1;32m    846\u001b[0m   \u001b[38;5;28;01mreturn\u001b[39;00m outputs\n\u001b[0;32m--> 848\u001b[0m data \u001b[38;5;241m=\u001b[39m \u001b[38;5;28;43mnext\u001b[39;49m\u001b[43m(\u001b[49m\u001b[43miterator\u001b[49m\u001b[43m)\u001b[49m\n\u001b[1;32m    849\u001b[0m outputs \u001b[38;5;241m=\u001b[39m model\u001b[38;5;241m.\u001b[39mdistribute_strategy\u001b[38;5;241m.\u001b[39mrun(run_step, args\u001b[38;5;241m=\u001b[39m(data,))\n\u001b[1;32m    850\u001b[0m outputs \u001b[38;5;241m=\u001b[39m reduce_per_replica(\n\u001b[1;32m    851\u001b[0m     outputs, \u001b[38;5;28mself\u001b[39m\u001b[38;5;241m.\u001b[39mdistribute_strategy, reduction\u001b[38;5;241m=\u001b[39m\u001b[38;5;124m'\u001b[39m\u001b[38;5;124mfirst\u001b[39m\u001b[38;5;124m'\u001b[39m)\n",
      "File \u001b[0;32m~/.conda/envs/cuda_env/lib/python3.8/site-packages/tensorflow/python/data/ops/iterator_ops.py:800\u001b[0m, in \u001b[0;36mOwnedIterator.__next__\u001b[0;34m(self)\u001b[0m\n\u001b[1;32m    798\u001b[0m \u001b[38;5;28;01mdef\u001b[39;00m \u001b[38;5;21m__next__\u001b[39m(\u001b[38;5;28mself\u001b[39m):\n\u001b[1;32m    799\u001b[0m   \u001b[38;5;28;01mtry\u001b[39;00m:\n\u001b[0;32m--> 800\u001b[0m     \u001b[38;5;28;01mreturn\u001b[39;00m \u001b[38;5;28;43mself\u001b[39;49m\u001b[38;5;241;43m.\u001b[39;49m\u001b[43m_next_internal\u001b[49m\u001b[43m(\u001b[49m\u001b[43m)\u001b[49m\n\u001b[1;32m    801\u001b[0m   \u001b[38;5;28;01mexcept\u001b[39;00m errors\u001b[38;5;241m.\u001b[39mOutOfRangeError:\n\u001b[1;32m    802\u001b[0m     \u001b[38;5;28;01mraise\u001b[39;00m \u001b[38;5;167;01mStopIteration\u001b[39;00m\n",
      "File \u001b[0;32m~/.conda/envs/cuda_env/lib/python3.8/site-packages/tensorflow/python/data/ops/iterator_ops.py:783\u001b[0m, in \u001b[0;36mOwnedIterator._next_internal\u001b[0;34m(self)\u001b[0m\n\u001b[1;32m    780\u001b[0m \u001b[38;5;66;03m# TODO(b/77291417): This runs in sync mode as iterators use an error status\u001b[39;00m\n\u001b[1;32m    781\u001b[0m \u001b[38;5;66;03m# to communicate that there is no more data to iterate over.\u001b[39;00m\n\u001b[1;32m    782\u001b[0m \u001b[38;5;28;01mwith\u001b[39;00m context\u001b[38;5;241m.\u001b[39mexecution_mode(context\u001b[38;5;241m.\u001b[39mSYNC):\n\u001b[0;32m--> 783\u001b[0m   ret \u001b[38;5;241m=\u001b[39m \u001b[43mgen_dataset_ops\u001b[49m\u001b[38;5;241;43m.\u001b[39;49m\u001b[43miterator_get_next\u001b[49m\u001b[43m(\u001b[49m\n\u001b[1;32m    784\u001b[0m \u001b[43m      \u001b[49m\u001b[38;5;28;43mself\u001b[39;49m\u001b[38;5;241;43m.\u001b[39;49m\u001b[43m_iterator_resource\u001b[49m\u001b[43m,\u001b[49m\n\u001b[1;32m    785\u001b[0m \u001b[43m      \u001b[49m\u001b[43moutput_types\u001b[49m\u001b[38;5;241;43m=\u001b[39;49m\u001b[38;5;28;43mself\u001b[39;49m\u001b[38;5;241;43m.\u001b[39;49m\u001b[43m_flat_output_types\u001b[49m\u001b[43m,\u001b[49m\n\u001b[1;32m    786\u001b[0m \u001b[43m      \u001b[49m\u001b[43moutput_shapes\u001b[49m\u001b[38;5;241;43m=\u001b[39;49m\u001b[38;5;28;43mself\u001b[39;49m\u001b[38;5;241;43m.\u001b[39;49m\u001b[43m_flat_output_shapes\u001b[49m\u001b[43m)\u001b[49m\n\u001b[1;32m    788\u001b[0m   \u001b[38;5;28;01mtry\u001b[39;00m:\n\u001b[1;32m    789\u001b[0m     \u001b[38;5;66;03m# Fast path for the case `self._structure` is not a nested structure.\u001b[39;00m\n\u001b[1;32m    790\u001b[0m     \u001b[38;5;28;01mreturn\u001b[39;00m \u001b[38;5;28mself\u001b[39m\u001b[38;5;241m.\u001b[39m_element_spec\u001b[38;5;241m.\u001b[39m_from_compatible_tensor_list(ret)  \u001b[38;5;66;03m# pylint: disable=protected-access\u001b[39;00m\n",
      "File \u001b[0;32m~/.conda/envs/cuda_env/lib/python3.8/site-packages/tensorflow/python/ops/gen_dataset_ops.py:2845\u001b[0m, in \u001b[0;36miterator_get_next\u001b[0;34m(iterator, output_types, output_shapes, name)\u001b[0m\n\u001b[1;32m   2843\u001b[0m   \u001b[38;5;28;01mreturn\u001b[39;00m _result\n\u001b[1;32m   2844\u001b[0m \u001b[38;5;28;01mexcept\u001b[39;00m _core\u001b[38;5;241m.\u001b[39m_NotOkStatusException \u001b[38;5;28;01mas\u001b[39;00m e:\n\u001b[0;32m-> 2845\u001b[0m   \u001b[43m_ops\u001b[49m\u001b[38;5;241;43m.\u001b[39;49m\u001b[43mraise_from_not_ok_status\u001b[49m\u001b[43m(\u001b[49m\u001b[43me\u001b[49m\u001b[43m,\u001b[49m\u001b[43m \u001b[49m\u001b[43mname\u001b[49m\u001b[43m)\u001b[49m\n\u001b[1;32m   2846\u001b[0m \u001b[38;5;28;01mexcept\u001b[39;00m _core\u001b[38;5;241m.\u001b[39m_FallbackException:\n\u001b[1;32m   2847\u001b[0m   \u001b[38;5;28;01mpass\u001b[39;00m\n",
      "File \u001b[0;32m~/.conda/envs/cuda_env/lib/python3.8/site-packages/tensorflow/python/framework/ops.py:7107\u001b[0m, in \u001b[0;36mraise_from_not_ok_status\u001b[0;34m(e, name)\u001b[0m\n\u001b[1;32m   7105\u001b[0m \u001b[38;5;28;01mdef\u001b[39;00m \u001b[38;5;21mraise_from_not_ok_status\u001b[39m(e, name):\n\u001b[1;32m   7106\u001b[0m   e\u001b[38;5;241m.\u001b[39mmessage \u001b[38;5;241m+\u001b[39m\u001b[38;5;241m=\u001b[39m (\u001b[38;5;124m\"\u001b[39m\u001b[38;5;124m name: \u001b[39m\u001b[38;5;124m\"\u001b[39m \u001b[38;5;241m+\u001b[39m name \u001b[38;5;28;01mif\u001b[39;00m name \u001b[38;5;129;01mis\u001b[39;00m \u001b[38;5;129;01mnot\u001b[39;00m \u001b[38;5;28;01mNone\u001b[39;00m \u001b[38;5;28;01melse\u001b[39;00m \u001b[38;5;124m\"\u001b[39m\u001b[38;5;124m\"\u001b[39m)\n\u001b[0;32m-> 7107\u001b[0m   \u001b[38;5;28;01mraise\u001b[39;00m core\u001b[38;5;241m.\u001b[39m_status_to_exception(e) \u001b[38;5;28;01mfrom\u001b[39;00m \u001b[38;5;28mNone\u001b[39m\n",
      "\u001b[0;31mInvalidArgumentError\u001b[0m: Cannot add tensor to the batch: number of elements does not match. Shapes are: [tensor]: [98088,440], [batch]: [98022,440] [Op:IteratorGetNext]"
     ]
    }
   ],
   "source": [
    "autoencoder.fit(seq_ds,\n",
    "                epochs=500, validation_data=(validation_data, validation_data),callbacks=[cp_callback])"
   ]
  },
  {
   "cell_type": "code",
   "execution_count": 11,
   "id": "b6e35e4c-0fbc-4d17-a32d-12962046a7b4",
   "metadata": {},
   "outputs": [
    {
     "name": "stderr",
     "output_type": "stream",
     "text": [
      "WARNING:absl:Found untraced functions such as dense_layer_call_and_return_conditional_losses, dense_layer_call_fn, dense_1_layer_call_and_return_conditional_losses, dense_1_layer_call_fn, dense_2_layer_call_and_return_conditional_losses while saving (showing 5 of 30). These functions will not be directly callable after loading.\n"
     ]
    },
    {
     "name": "stdout",
     "output_type": "stream",
     "text": [
      "INFO:tensorflow:Assets written to: autoencoderv2/assets\n"
     ]
    },
    {
     "name": "stderr",
     "output_type": "stream",
     "text": [
      "INFO:tensorflow:Assets written to: autoencoderv2/assets\n"
     ]
    }
   ],
   "source": [
    "autoencoder.save('autoencoderv2',save_format='tf')\n"
   ]
  },
  {
   "cell_type": "code",
   "execution_count": 221,
   "id": "902fa95c-296b-4bd1-b852-4e94cce09422",
   "metadata": {
    "collapsed": true,
    "jupyter": {
     "outputs_hidden": true,
     "source_hidden": true
    },
    "tags": []
   },
   "outputs": [
    {
     "name": "stderr",
     "output_type": "stream",
     "text": [
      "2024-01-26 16:11:06.145405: W tensorflow/core/framework/op_kernel.cc:1745] OP_REQUIRES failed at lookup_table_op.cc:954 : INVALID_ARGUMENT: Expected shape [21] for value, got [21,20]\n"
     ]
    },
    {
     "ename": "InvalidArgumentError",
     "evalue": "Expected shape [21] for value, got [21,20] [Op:LookupTableInsertV2]",
     "output_type": "error",
     "traceback": [
      "\u001b[0;31m---------------------------------------------------------------------------\u001b[0m",
      "\u001b[0;31mInvalidArgumentError\u001b[0m                      Traceback (most recent call last)",
      "Cell \u001b[0;32mIn[221], line 16\u001b[0m\n\u001b[1;32m     14\u001b[0m keys \u001b[38;5;241m=\u001b[39m tf\u001b[38;5;241m.\u001b[39mconstant([\u001b[38;5;124m'\u001b[39m\u001b[38;5;124mA\u001b[39m\u001b[38;5;124m'\u001b[39m, \u001b[38;5;124m'\u001b[39m\u001b[38;5;124mC\u001b[39m\u001b[38;5;124m'\u001b[39m, \u001b[38;5;124m'\u001b[39m\u001b[38;5;124mD\u001b[39m\u001b[38;5;124m'\u001b[39m, \u001b[38;5;124m'\u001b[39m\u001b[38;5;124mE\u001b[39m\u001b[38;5;124m'\u001b[39m, \u001b[38;5;124m'\u001b[39m\u001b[38;5;124mF\u001b[39m\u001b[38;5;124m'\u001b[39m, \u001b[38;5;124m'\u001b[39m\u001b[38;5;124mG\u001b[39m\u001b[38;5;124m'\u001b[39m, \u001b[38;5;124m'\u001b[39m\u001b[38;5;124mH\u001b[39m\u001b[38;5;124m'\u001b[39m, \u001b[38;5;124m'\u001b[39m\u001b[38;5;124mI\u001b[39m\u001b[38;5;124m'\u001b[39m, \u001b[38;5;124m'\u001b[39m\u001b[38;5;124mK\u001b[39m\u001b[38;5;124m'\u001b[39m, \u001b[38;5;124m'\u001b[39m\u001b[38;5;124mL\u001b[39m\u001b[38;5;124m'\u001b[39m, \u001b[38;5;124m'\u001b[39m\u001b[38;5;124mM\u001b[39m\u001b[38;5;124m'\u001b[39m, \u001b[38;5;124m'\u001b[39m\u001b[38;5;124mN\u001b[39m\u001b[38;5;124m'\u001b[39m, \u001b[38;5;124m'\u001b[39m\u001b[38;5;124mP\u001b[39m\u001b[38;5;124m'\u001b[39m, \u001b[38;5;124m'\u001b[39m\u001b[38;5;124mQ\u001b[39m\u001b[38;5;124m'\u001b[39m, \u001b[38;5;124m'\u001b[39m\u001b[38;5;124mR\u001b[39m\u001b[38;5;124m'\u001b[39m, \u001b[38;5;124m'\u001b[39m\u001b[38;5;124mS\u001b[39m\u001b[38;5;124m'\u001b[39m, \u001b[38;5;124m'\u001b[39m\u001b[38;5;124mT\u001b[39m\u001b[38;5;124m'\u001b[39m, \u001b[38;5;124m'\u001b[39m\u001b[38;5;124mV\u001b[39m\u001b[38;5;124m'\u001b[39m, \u001b[38;5;124m'\u001b[39m\u001b[38;5;124mW\u001b[39m\u001b[38;5;124m'\u001b[39m, \u001b[38;5;124m'\u001b[39m\u001b[38;5;124mY\u001b[39m\u001b[38;5;124m'\u001b[39m, \u001b[38;5;124m'\u001b[39m\u001b[38;5;124mX\u001b[39m\u001b[38;5;124m'\u001b[39m])\n\u001b[1;32m     15\u001b[0m values \u001b[38;5;241m=\u001b[39mtf\u001b[38;5;241m.\u001b[39mconstant([[\u001b[38;5;241m-\u001b[39m\u001b[38;5;241m0.591\u001b[39m, \u001b[38;5;241m-\u001b[39m\u001b[38;5;241m1.302\u001b[39m, \u001b[38;5;241m-\u001b[39m\u001b[38;5;241m0.733\u001b[39m, \u001b[38;5;241m1.57\u001b[39m, \u001b[38;5;241m-\u001b[39m\u001b[38;5;241m0.146\u001b[39m, \u001b[38;5;241m0.62\u001b[39m, \u001b[38;5;241m-\u001b[39m\u001b[38;5;241m0.5\u001b[39m, \u001b[38;5;241m15\u001b[39m, \u001b[38;5;241m2.35\u001b[39m, \u001b[38;5;241m9.87\u001b[39m, \u001b[38;5;241m6.11\u001b[39m, \u001b[38;5;241m-\u001b[39m\u001b[38;5;241m1.338\u001b[39m, \u001b[38;5;241m-\u001b[39m\u001b[38;5;241m3.102\u001b[39m, \u001b[38;5;241m0.52\u001b[39m, \u001b[38;5;241m1.18\u001b[39m, \u001b[38;5;241m4.349\u001b[39m, \u001b[38;5;241m-\u001b[39m\u001b[38;5;241m0.368\u001b[39m, \u001b[38;5;241m0.36\u001b[39m, \u001b[38;5;241m0.67\u001b[39m, \u001b[38;5;241m-\u001b[39m\u001b[38;5;241m9.475\u001b[39m], [\u001b[38;5;241m-\u001b[39m\u001b[38;5;241m1.343\u001b[39m, \u001b[38;5;241m0.465\u001b[39m, \u001b[38;5;241m-\u001b[39m\u001b[38;5;241m0.862\u001b[39m, \u001b[38;5;241m-\u001b[39m\u001b[38;5;241m1.02\u001b[39m, \u001b[38;5;241m-\u001b[39m\u001b[38;5;241m0.255\u001b[39m, \u001b[38;5;241m0.29\u001b[39m, \u001b[38;5;241m-\u001b[39m\u001b[38;5;241m1\u001b[39m, \u001b[38;5;241m47\u001b[39m, \u001b[38;5;241m1.71\u001b[39m, \u001b[38;5;241m10.78\u001b[39m, \u001b[38;5;241m5.02\u001b[39m, \u001b[38;5;241m-\u001b[39m\u001b[38;5;241m1.511\u001b[39m, \u001b[38;5;241m0.957\u001b[39m, \u001b[38;5;241m1.12\u001b[39m, \u001b[38;5;241m1.89\u001b[39m, \u001b[38;5;241m4.686\u001b[39m, \u001b[38;5;241m4.53\u001b[39m, \u001b[38;5;241m0.7\u001b[39m, \u001b[38;5;241m0.38\u001b[39m, \u001b[38;5;241m-\u001b[39m\u001b[38;5;241m12.21\u001b[39m], [\u001b[38;5;241m1.05\u001b[39m, \u001b[38;5;241m0.302\u001b[39m, \u001b[38;5;241m-\u001b[39m\u001b[38;5;241m3.656\u001b[39m, \u001b[38;5;241m-\u001b[39m\u001b[38;5;241m0.259\u001b[39m, \u001b[38;5;241m-\u001b[39m\u001b[38;5;241m3.242\u001b[39m, \u001b[38;5;241m-\u001b[39m\u001b[38;5;241m0.9\u001b[39m, \u001b[38;5;241m3\u001b[39m, \u001b[38;5;241m59\u001b[39m, \u001b[38;5;241m1.88\u001b[39m, \u001b[38;5;241m9.6\u001b[39m, \u001b[38;5;241m2.98\u001b[39m, \u001b[38;5;241m-\u001b[39m\u001b[38;5;241m0.204\u001b[39m, \u001b[38;5;241m0.424\u001b[39m, \u001b[38;5;241m0.77\u001b[39m, \u001b[38;5;241m0.05\u001b[39m, \u001b[38;5;241m4.765\u001b[39m, \u001b[38;5;241m2.06\u001b[39m, \u001b[38;5;241m-\u001b[39m\u001b[38;5;241m1.09\u001b[39m, \u001b[38;5;241m-\u001b[39m\u001b[38;5;241m1.2\u001b[39m, \u001b[38;5;241m-\u001b[39m\u001b[38;5;241m12.144\u001b[39m], [\u001b[38;5;241m1.357\u001b[39m, \u001b[38;5;241m-\u001b[39m\u001b[38;5;241m1.453\u001b[39m, \u001b[38;5;241m1.477\u001b[39m, \u001b[38;5;241m0.113\u001b[39m, \u001b[38;5;241m-\u001b[39m\u001b[38;5;241m0.837\u001b[39m, \u001b[38;5;241m-\u001b[39m\u001b[38;5;241m0.74\u001b[39m, \u001b[38;5;241m3\u001b[39m, \u001b[38;5;241m73\u001b[39m, \u001b[38;5;241m2.19\u001b[39m, \u001b[38;5;241m9.67\u001b[39m, \u001b[38;5;241m3.08\u001b[39m, \u001b[38;5;241m-\u001b[39m\u001b[38;5;241m0.365\u001b[39m, \u001b[38;5;241m2.009\u001b[39m, \u001b[38;5;241m0.76\u001b[39m, \u001b[38;5;241m0.11\u001b[39m, \u001b[38;5;241m4.295\u001b[39m, \u001b[38;5;241m1.77\u001b[39m, \u001b[38;5;241m-\u001b[39m\u001b[38;5;241m0.83\u001b[39m, \u001b[38;5;241m-\u001b[39m\u001b[38;5;241m0.76\u001b[39m, \u001b[38;5;241m-\u001b[39m\u001b[38;5;241m13.815\u001b[39m], [\u001b[38;5;241m-\u001b[39m\u001b[38;5;241m1.006\u001b[39m, \u001b[38;5;241m-\u001b[39m\u001b[38;5;241m0.59\u001b[39m, \u001b[38;5;241m1.891\u001b[39m, \u001b[38;5;241m-\u001b[39m\u001b[38;5;241m0.397\u001b[39m, \u001b[38;5;241m0.412\u001b[39m, \u001b[38;5;241m1.19\u001b[39m, \u001b[38;5;241m-\u001b[39m\u001b[38;5;241m2.5\u001b[39m, \u001b[38;5;241m91\u001b[39m, \u001b[38;5;241m2.58\u001b[39m, \u001b[38;5;241m9.24\u001b[39m, \u001b[38;5;241m5.91\u001b[39m, \u001b[38;5;241m2.877\u001b[39m, \u001b[38;5;241m-\u001b[39m\u001b[38;5;241m0.466\u001b[39m, \u001b[38;5;241m0.86\u001b[39m, \u001b[38;5;241m1.96\u001b[39m, \u001b[38;5;241m4.663\u001b[39m, \u001b[38;5;241m1.06\u001b[39m, \u001b[38;5;241m1.01\u001b[39m, \u001b[38;5;241m2.3\u001b[39m, \u001b[38;5;241m-\u001b[39m\u001b[38;5;241m20.504\u001b[39m], [\u001b[38;5;241m-\u001b[39m\u001b[38;5;241m0.384\u001b[39m, \u001b[38;5;241m1.652\u001b[39m, \u001b[38;5;241m1.33\u001b[39m, \u001b[38;5;241m1.045\u001b[39m, \u001b[38;5;241m2.064\u001b[39m, \u001b[38;5;241m0.48\u001b[39m, \u001b[38;5;241m0\u001b[39m, \u001b[38;5;241m1\u001b[39m, \u001b[38;5;241m2.34\u001b[39m, \u001b[38;5;241m9.6\u001b[39m, \u001b[38;5;241m6.06\u001b[39m, \u001b[38;5;241m-\u001b[39m\u001b[38;5;241m1.097\u001b[39m, \u001b[38;5;241m-\u001b[39m\u001b[38;5;241m2.746\u001b[39m, \u001b[38;5;241m0.56\u001b[39m, \u001b[38;5;241m0.49\u001b[39m, \u001b[38;5;241m3.972\u001b[39m, \u001b[38;5;241m-\u001b[39m\u001b[38;5;241m0.525\u001b[39m, \u001b[38;5;241m-\u001b[39m\u001b[38;5;241m0.82\u001b[39m, \u001b[38;5;241m0\u001b[39m, \u001b[38;5;241m-\u001b[39m\u001b[38;5;241m7.592\u001b[39m], [\u001b[38;5;241m0.336\u001b[39m, \u001b[38;5;241m-\u001b[39m\u001b[38;5;241m0.417\u001b[39m, \u001b[38;5;241m-\u001b[39m\u001b[38;5;241m1.673\u001b[39m, \u001b[38;5;241m-\u001b[39m\u001b[38;5;241m1.474\u001b[39m, \u001b[38;5;241m-\u001b[39m\u001b[38;5;241m0.078\u001b[39m, \u001b[38;5;241m-\u001b[39m\u001b[38;5;241m0.4\u001b[39m, \u001b[38;5;241m-\u001b[39m\u001b[38;5;241m0.5\u001b[39m, \u001b[38;5;241m82\u001b[39m, \u001b[38;5;241m1.78\u001b[39m, \u001b[38;5;241m8.97\u001b[39m, \u001b[38;5;241m7.64\u001b[39m, \u001b[38;5;241m2.269\u001b[39m, \u001b[38;5;241m-\u001b[39m\u001b[38;5;241m0.223\u001b[39m, \u001b[38;5;241m0.94\u001b[39m, \u001b[38;5;241m0.31\u001b[39m, \u001b[38;5;241m4.63\u001b[39m, \u001b[38;5;241m0\u001b[39m, \u001b[38;5;241m0.16\u001b[39m, \u001b[38;5;241m0.64\u001b[39m, \u001b[38;5;241m-\u001b[39m\u001b[38;5;241m17.55\u001b[39m], [\u001b[38;5;241m-\u001b[39m\u001b[38;5;241m1.239\u001b[39m, \u001b[38;5;241m-\u001b[39m\u001b[38;5;241m0.547\u001b[39m, \u001b[38;5;241m2.131\u001b[39m, \u001b[38;5;241m0.393\u001b[39m, \u001b[38;5;241m0.816\u001b[39m, \u001b[38;5;241m1.38\u001b[39m, \u001b[38;5;241m-\u001b[39m\u001b[38;5;241m1.8\u001b[39m, \u001b[38;5;241m57\u001b[39m, \u001b[38;5;241m2.32\u001b[39m, \u001b[38;5;241m9.76\u001b[39m, \u001b[38;5;241m6.04\u001b[39m, \u001b[38;5;241m-\u001b[39m\u001b[38;5;241m1.741\u001b[39m, \u001b[38;5;241m0.424\u001b[39m, \u001b[38;5;241m0.65\u001b[39m, \u001b[38;5;241m1.45\u001b[39m, \u001b[38;5;241m4.224\u001b[39m, \u001b[38;5;241m0.791\u001b[39m, \u001b[38;5;241m2.17\u001b[39m, \u001b[38;5;241m1.9\u001b[39m, \u001b[38;5;241m-\u001b[39m\u001b[38;5;241m15.608\u001b[39m], [\u001b[38;5;241m1.831\u001b[39m, \u001b[38;5;241m-\u001b[39m\u001b[38;5;241m0.561\u001b[39m, \u001b[38;5;241m0.533\u001b[39m, \u001b[38;5;241m-\u001b[39m\u001b[38;5;241m0.277\u001b[39m, \u001b[38;5;241m1.648\u001b[39m, \u001b[38;5;241m-\u001b[39m\u001b[38;5;241m1.5\u001b[39m, \u001b[38;5;241m3\u001b[39m, \u001b[38;5;241m73\u001b[39m, \u001b[38;5;241m2.2\u001b[39m, \u001b[38;5;241m8.9\u001b[39m, \u001b[38;5;241m9.47\u001b[39m, \u001b[38;5;241m-\u001b[39m\u001b[38;5;241m1.822\u001b[39m, \u001b[38;5;241m3.95\u001b[39m, \u001b[38;5;241m0.81\u001b[39m, \u001b[38;5;241m0.06\u001b[39m, \u001b[38;5;241m4.358\u001b[39m, \u001b[38;5;241m0\u001b[39m, \u001b[38;5;241m-\u001b[39m\u001b[38;5;241m0.56\u001b[39m, \u001b[38;5;241m-\u001b[39m\u001b[38;5;241m0.57\u001b[39m, \u001b[38;5;241m-\u001b[39m\u001b[38;5;241m12.366\u001b[39m], [\u001b[38;5;241m-\u001b[39m\u001b[38;5;241m1.019\u001b[39m, \u001b[38;5;241m-\u001b[39m\u001b[38;5;241m0.987\u001b[39m, \u001b[38;5;241m-\u001b[39m\u001b[38;5;241m1.505\u001b[39m, \u001b[38;5;241m1.266\u001b[39m, \u001b[38;5;241m-\u001b[39m\u001b[38;5;241m0.912\u001b[39m, \u001b[38;5;241m1.06\u001b[39m, \u001b[38;5;241m-\u001b[39m\u001b[38;5;241m1.8\u001b[39m, \u001b[38;5;241m57\u001b[39m, \u001b[38;5;241m2.36\u001b[39m, \u001b[38;5;241m9.6\u001b[39m, \u001b[38;5;241m6.04\u001b[39m, \u001b[38;5;241m-\u001b[39m\u001b[38;5;241m1.741\u001b[39m, \u001b[38;5;241m0.424\u001b[39m, \u001b[38;5;241m0.58\u001b[39m, \u001b[38;5;241m3.23\u001b[39m, \u001b[38;5;241m4.385\u001b[39m, \u001b[38;5;241m1.07\u001b[39m, \u001b[38;5;241m1.18\u001b[39m, \u001b[38;5;241m1.9\u001b[39m, \u001b[38;5;241m-\u001b[39m\u001b[38;5;241m15.728\u001b[39m], [\u001b[38;5;241m-\u001b[39m\u001b[38;5;241m0.663\u001b[39m, \u001b[38;5;241m-\u001b[39m\u001b[38;5;241m1.524\u001b[39m, \u001b[38;5;241m2.219\u001b[39m, \u001b[38;5;241m-\u001b[39m\u001b[38;5;241m1.005\u001b[39m, \u001b[38;5;241m1.212\u001b[39m, \u001b[38;5;241m0.64\u001b[39m, \u001b[38;5;241m-\u001b[39m\u001b[38;5;241m1.3\u001b[39m, \u001b[38;5;241m75\u001b[39m, \u001b[38;5;241m2.28\u001b[39m, \u001b[38;5;241m9.21\u001b[39m, \u001b[38;5;241m5.74\u001b[39m, \u001b[38;5;241m-\u001b[39m\u001b[38;5;241m1.741\u001b[39m, \u001b[38;5;241m2.484\u001b[39m, \u001b[38;5;241m1.25\u001b[39m, \u001b[38;5;241m2.67\u001b[39m, \u001b[38;5;241m4.513\u001b[39m, \u001b[38;5;241m0.656\u001b[39m, \u001b[38;5;241m1.21\u001b[39m, \u001b[38;5;241m2.4\u001b[39m, \u001b[38;5;241m-\u001b[39m\u001b[38;5;241m15.704\u001b[39m], [\u001b[38;5;241m0.945\u001b[39m, \u001b[38;5;241m0.828\u001b[39m, \u001b[38;5;241m1.299\u001b[39m, \u001b[38;5;241m-\u001b[39m\u001b[38;5;241m0.169\u001b[39m, \u001b[38;5;241m0.933\u001b[39m, \u001b[38;5;241m-\u001b[39m\u001b[38;5;241m0.78\u001b[39m, \u001b[38;5;241m0.2\u001b[39m, \u001b[38;5;241m58\u001b[39m, \u001b[38;5;241m2.18\u001b[39m, \u001b[38;5;241m9.09\u001b[39m, \u001b[38;5;241m10.76\u001b[39m, \u001b[38;5;241m-\u001b[39m\u001b[38;5;241m0.204\u001b[39m, \u001b[38;5;241m0.424\u001b[39m, \u001b[38;5;241m0.79\u001b[39m, \u001b[38;5;241m0.23\u001b[39m, \u001b[38;5;241m4.755\u001b[39m, \u001b[38;5;241m0\u001b[39m, \u001b[38;5;241m-\u001b[39m\u001b[38;5;241m0.9\u001b[39m, \u001b[38;5;241m-\u001b[39m\u001b[38;5;241m0.6\u001b[39m, \u001b[38;5;241m-\u001b[39m\u001b[38;5;241m12.48\u001b[39m], [\u001b[38;5;241m0.189\u001b[39m, \u001b[38;5;241m2.081\u001b[39m, \u001b[38;5;241m-\u001b[39m\u001b[38;5;241m1.628\u001b[39m, \u001b[38;5;241m0.421\u001b[39m, \u001b[38;5;241m-\u001b[39m\u001b[38;5;241m1.392\u001b[39m, \u001b[38;5;241m0.12\u001b[39m, \u001b[38;5;241m0\u001b[39m, \u001b[38;5;241m42\u001b[39m, \u001b[38;5;241m1.99\u001b[39m, \u001b[38;5;241m10.6\u001b[39m, \u001b[38;5;241m6.3\u001b[39m, \u001b[38;5;241m1.979\u001b[39m, \u001b[38;5;241m-\u001b[39m\u001b[38;5;241m2.404\u001b[39m, \u001b[38;5;241m0.61\u001b[39m, \u001b[38;5;241m0.76\u001b[39m, \u001b[38;5;241m4.471\u001b[39m, \u001b[38;5;241m-\u001b[39m\u001b[38;5;241m2.24\u001b[39m, \u001b[38;5;241m-\u001b[39m\u001b[38;5;241m0.06\u001b[39m, \u001b[38;5;241m1.2\u001b[39m, \u001b[38;5;241m-\u001b[39m\u001b[38;5;241m11.893\u001b[39m], [\u001b[38;5;241m0.931\u001b[39m, \u001b[38;5;241m-\u001b[39m\u001b[38;5;241m0.179\u001b[39m, \u001b[38;5;241m-\u001b[39m\u001b[38;5;241m3.005\u001b[39m, \u001b[38;5;241m-\u001b[39m\u001b[38;5;241m0.503\u001b[39m, \u001b[38;5;241m-\u001b[39m\u001b[38;5;241m1.853\u001b[39m, \u001b[38;5;241m-\u001b[39m\u001b[38;5;241m0.85\u001b[39m, \u001b[38;5;241m0.2\u001b[39m, \u001b[38;5;241m72\u001b[39m, \u001b[38;5;241m2.17\u001b[39m, \u001b[38;5;241m9.13\u001b[39m, \u001b[38;5;241m5.65\u001b[39m, \u001b[38;5;241m-\u001b[39m\u001b[38;5;241m0.365\u001b[39m, \u001b[38;5;241m2.009\u001b[39m, \u001b[38;5;241m0.86\u001b[39m, \u001b[38;5;241m0.72\u001b[39m, \u001b[38;5;241m4.373\u001b[39m, \u001b[38;5;241m0.731\u001b[39m, \u001b[38;5;241m-\u001b[39m\u001b[38;5;241m1.05\u001b[39m, \u001b[38;5;241m-\u001b[39m\u001b[38;5;241m0.22\u001b[39m, \u001b[38;5;241m-\u001b[39m\u001b[38;5;241m13.689\u001b[39m], [\u001b[38;5;241m1.538\u001b[39m, \u001b[38;5;241m-\u001b[39m\u001b[38;5;241m0.055\u001b[39m, \u001b[38;5;241m1.502\u001b[39m, \u001b[38;5;241m0.44\u001b[39m, \u001b[38;5;241m2.897\u001b[39m, \u001b[38;5;241m-\u001b[39m\u001b[38;5;241m2.53\u001b[39m, \u001b[38;5;241m3\u001b[39m, \u001b[38;5;241m101\u001b[39m, \u001b[38;5;241m2.18\u001b[39m, \u001b[38;5;241m9.09\u001b[39m, \u001b[38;5;241m10.76\u001b[39m, \u001b[38;5;241m1.169\u001b[39m, \u001b[38;5;241m3.06\u001b[39m, \u001b[38;5;241m0.6\u001b[39m, \u001b[38;5;241m0.2\u001b[39m, \u001b[38;5;241m4.396\u001b[39m, \u001b[38;5;241m-\u001b[39m\u001b[38;5;241m1.03\u001b[39m, \u001b[38;5;241m-\u001b[39m\u001b[38;5;241m0.52\u001b[39m, \u001b[38;5;241m-\u001b[39m\u001b[38;5;241m2.1\u001b[39m, \u001b[38;5;241m-\u001b[39m\u001b[38;5;241m16.225\u001b[39m], [\u001b[38;5;241m-\u001b[39m\u001b[38;5;241m0.228\u001b[39m, \u001b[38;5;241m1.399\u001b[39m, \u001b[38;5;241m-\u001b[39m\u001b[38;5;241m4.76\u001b[39m, \u001b[38;5;241m0.67\u001b[39m, \u001b[38;5;241m-\u001b[39m\u001b[38;5;241m2.647\u001b[39m, \u001b[38;5;241m-\u001b[39m\u001b[38;5;241m0.18\u001b[39m, \u001b[38;5;241m0.3\u001b[39m, \u001b[38;5;241m31\u001b[39m, \u001b[38;5;241m2.21\u001b[39m, \u001b[38;5;241m9.15\u001b[39m, \u001b[38;5;241m5.68\u001b[39m, \u001b[38;5;241m-\u001b[39m\u001b[38;5;241m1.511\u001b[39m, \u001b[38;5;241m0.957\u001b[39m, \u001b[38;5;241m0.64\u001b[39m, \u001b[38;5;241m0.97\u001b[39m, \u001b[38;5;241m4.498\u001b[39m, \u001b[38;5;241m-\u001b[39m\u001b[38;5;241m0.524\u001b[39m, \u001b[38;5;241m-\u001b[39m\u001b[38;5;241m0.6\u001b[39m, \u001b[38;5;241m0.01\u001b[39m, \u001b[38;5;241m-\u001b[39m\u001b[38;5;241m10.518\u001b[39m], [\u001b[38;5;241m-\u001b[39m\u001b[38;5;241m0.032\u001b[39m, \u001b[38;5;241m0.326\u001b[39m, \u001b[38;5;241m2.213\u001b[39m, \u001b[38;5;241m0.908\u001b[39m, \u001b[38;5;241m1.313\u001b[39m, \u001b[38;5;241m-\u001b[39m\u001b[38;5;241m0.05\u001b[39m, \u001b[38;5;241m-\u001b[39m\u001b[38;5;241m0.4\u001b[39m, \u001b[38;5;241m45\u001b[39m, \u001b[38;5;241m2.15\u001b[39m, \u001b[38;5;241m9.12\u001b[39m, \u001b[38;5;241m5.6\u001b[39m, \u001b[38;5;241m-\u001b[39m\u001b[38;5;241m1.641\u001b[39m, \u001b[38;5;241m-\u001b[39m\u001b[38;5;241m1.339\u001b[39m, \u001b[38;5;241m0.56\u001b[39m, \u001b[38;5;241m0.84\u001b[39m, \u001b[38;5;241m4.346\u001b[39m, \u001b[38;5;241m0\u001b[39m, \u001b[38;5;241m-\u001b[39m\u001b[38;5;241m1.2\u001b[39m, \u001b[38;5;241m0.52\u001b[39m, \u001b[38;5;241m-\u001b[39m\u001b[38;5;241m12.369\u001b[39m], [\u001b[38;5;241m-\u001b[39m\u001b[38;5;241m1.337\u001b[39m, \u001b[38;5;241m-\u001b[39m\u001b[38;5;241m0.279\u001b[39m, \u001b[38;5;241m-\u001b[39m\u001b[38;5;241m0.544\u001b[39m, \u001b[38;5;241m1.242\u001b[39m, \u001b[38;5;241m-\u001b[39m\u001b[38;5;241m1.262\u001b[39m, \u001b[38;5;241m1.08\u001b[39m, \u001b[38;5;241m-\u001b[39m\u001b[38;5;241m1.5\u001b[39m, \u001b[38;5;241m43\u001b[39m, \u001b[38;5;241m2.29\u001b[39m, \u001b[38;5;241m9.74\u001b[39m, \u001b[38;5;241m6.02\u001b[39m, \u001b[38;5;241m-\u001b[39m\u001b[38;5;241m1.641\u001b[39m, \u001b[38;5;241m-\u001b[39m\u001b[38;5;241m1.339\u001b[39m, \u001b[38;5;241m0.54\u001b[39m, \u001b[38;5;241m1.08\u001b[39m, \u001b[38;5;241m4.184\u001b[39m, \u001b[38;5;241m0.401\u001b[39m, \u001b[38;5;241m1.21\u001b[39m, \u001b[38;5;241m1.5\u001b[39m, \u001b[38;5;241m-\u001b[39m\u001b[38;5;241m13.867\u001b[39m], [\u001b[38;5;241m-\u001b[39m\u001b[38;5;241m0.595\u001b[39m, \u001b[38;5;241m0.009\u001b[39m, \u001b[38;5;241m0.672\u001b[39m, \u001b[38;5;241m-\u001b[39m\u001b[38;5;241m2.128\u001b[39m, \u001b[38;5;241m-\u001b[39m\u001b[38;5;241m0.184\u001b[39m, \u001b[38;5;241m0.81\u001b[39m, \u001b[38;5;241m-\u001b[39m\u001b[38;5;241m3.4\u001b[39m, \u001b[38;5;241m130\u001b[39m, \u001b[38;5;241m2.38\u001b[39m, \u001b[38;5;241m9.39\u001b[39m, \u001b[38;5;241m5.88\u001b[39m, \u001b[38;5;241m5.913\u001b[39m, \u001b[38;5;241m-\u001b[39m\u001b[38;5;241m1\u001b[39m, \u001b[38;5;241m1.82\u001b[39m, \u001b[38;5;241m0.77\u001b[39m, \u001b[38;5;241m4.702\u001b[39m, \u001b[38;5;241m1.6\u001b[39m, \u001b[38;5;241m1.31\u001b[39m, \u001b[38;5;241m2.6\u001b[39m, \u001b[38;5;241m-\u001b[39m\u001b[38;5;241m26.166\u001b[39m], [\u001b[38;5;241m0.26\u001b[39m, \u001b[38;5;241m0.83\u001b[39m, \u001b[38;5;241m3.097\u001b[39m, \u001b[38;5;241m-\u001b[39m\u001b[38;5;241m0.838\u001b[39m, \u001b[38;5;241m1.512\u001b[39m, \u001b[38;5;241m0.26\u001b[39m, \u001b[38;5;241m-\u001b[39m\u001b[38;5;241m2.3\u001b[39m, \u001b[38;5;241m107\u001b[39m, \u001b[38;5;241m2.2\u001b[39m, \u001b[38;5;241m9.11\u001b[39m, \u001b[38;5;241m5.63\u001b[39m, \u001b[38;5;241m2.714\u001b[39m, \u001b[38;5;241m-\u001b[39m\u001b[38;5;241m0.672\u001b[39m, \u001b[38;5;241m0.98\u001b[39m, \u001b[38;5;241m0.39\u001b[39m, \u001b[38;5;241m4.604\u001b[39m, \u001b[38;5;241m4.91\u001b[39m, \u001b[38;5;241m1.05\u001b[39m, \u001b[38;5;241m1.6\u001b[39m, \u001b[38;5;241m-\u001b[39m\u001b[38;5;241m20.232\u001b[39m], [\u001b[38;5;241m0\u001b[39m, \u001b[38;5;241m0\u001b[39m, \u001b[38;5;241m0\u001b[39m, \u001b[38;5;241m0\u001b[39m, \u001b[38;5;241m0\u001b[39m, \u001b[38;5;241m0\u001b[39m, \u001b[38;5;241m0\u001b[39m, \u001b[38;5;241m0\u001b[39m, \u001b[38;5;241m0\u001b[39m, \u001b[38;5;241m0\u001b[39m, \u001b[38;5;241m0\u001b[39m, \u001b[38;5;241m0\u001b[39m, \u001b[38;5;241m0\u001b[39m, \u001b[38;5;241m0\u001b[39m, \u001b[38;5;241m0\u001b[39m, \u001b[38;5;241m0\u001b[39m, \u001b[38;5;241m0\u001b[39m, \u001b[38;5;241m0\u001b[39m, \u001b[38;5;241m0\u001b[39m, \u001b[38;5;241m0\u001b[39m]])  \u001b[38;5;66;03m# Pre-computed one-hot vectors\u001b[39;00m\n\u001b[0;32m---> 16\u001b[0m \u001b[43mtable\u001b[49m\u001b[38;5;241;43m.\u001b[39;49m\u001b[43minsert\u001b[49m\u001b[43m(\u001b[49m\u001b[43mkeys\u001b[49m\u001b[43m,\u001b[49m\u001b[43m \u001b[49m\u001b[43mvalues\u001b[49m\u001b[43m)\u001b[49m\n\u001b[1;32m     17\u001b[0m \u001b[38;5;66;03m# table.remove(tf.constant(['c']))\u001b[39;00m\n\u001b[1;32m     18\u001b[0m \u001b[38;5;66;03m# table.lookup(tf.constant(['a', 'b', 'c','d'])).numpy()\u001b[39;00m\n",
      "File \u001b[0;32m~/.conda/envs/cuda_env/lib/python3.8/site-packages/tensorflow/python/ops/lookup_ops.py:2249\u001b[0m, in \u001b[0;36mDenseHashTable.insert\u001b[0;34m(self, keys, values, name)\u001b[0m\n\u001b[1;32m   2232\u001b[0m \u001b[38;5;28;01mdef\u001b[39;00m \u001b[38;5;21minsert\u001b[39m(\u001b[38;5;28mself\u001b[39m, keys, values, name\u001b[38;5;241m=\u001b[39m\u001b[38;5;28;01mNone\u001b[39;00m):\n\u001b[1;32m   2233\u001b[0m   \u001b[38;5;124;03m\"\"\"Associates `keys` with `values`.\u001b[39;00m\n\u001b[1;32m   2234\u001b[0m \n\u001b[1;32m   2235\u001b[0m \u001b[38;5;124;03m  Args:\u001b[39;00m\n\u001b[0;32m   (...)\u001b[0m\n\u001b[1;32m   2247\u001b[0m \u001b[38;5;124;03m      types.\u001b[39;00m\n\u001b[1;32m   2248\u001b[0m \u001b[38;5;124;03m  \"\"\"\u001b[39;00m\n\u001b[0;32m-> 2249\u001b[0m   \u001b[38;5;28;01mreturn\u001b[39;00m \u001b[38;5;28;43mself\u001b[39;49m\u001b[38;5;241;43m.\u001b[39;49m\u001b[43minsert_or_assign\u001b[49m\u001b[43m(\u001b[49m\u001b[43mkeys\u001b[49m\u001b[43m,\u001b[49m\u001b[43m \u001b[49m\u001b[43mvalues\u001b[49m\u001b[43m,\u001b[49m\u001b[43m \u001b[49m\u001b[43mname\u001b[49m\u001b[43m)\u001b[49m\n",
      "File \u001b[0;32m~/.conda/envs/cuda_env/lib/python3.8/site-packages/tensorflow/python/ops/lookup_ops.py:2228\u001b[0m, in \u001b[0;36mDenseHashTable.insert_or_assign\u001b[0;34m(self, keys, values, name)\u001b[0m\n\u001b[1;32m   2225\u001b[0m values \u001b[38;5;241m=\u001b[39m ops\u001b[38;5;241m.\u001b[39mconvert_to_tensor(\n\u001b[1;32m   2226\u001b[0m     values, dtype\u001b[38;5;241m=\u001b[39m\u001b[38;5;28mself\u001b[39m\u001b[38;5;241m.\u001b[39m_value_dtype, name\u001b[38;5;241m=\u001b[39m\u001b[38;5;124m\"\u001b[39m\u001b[38;5;124mvalues\u001b[39m\u001b[38;5;124m\"\u001b[39m)\n\u001b[1;32m   2227\u001b[0m \u001b[38;5;28;01mwith\u001b[39;00m ops\u001b[38;5;241m.\u001b[39mcolocate_with(\u001b[38;5;28mself\u001b[39m\u001b[38;5;241m.\u001b[39mresource_handle):\n\u001b[0;32m-> 2228\u001b[0m   op \u001b[38;5;241m=\u001b[39m \u001b[43mgen_lookup_ops\u001b[49m\u001b[38;5;241;43m.\u001b[39;49m\u001b[43mlookup_table_insert_v2\u001b[49m\u001b[43m(\u001b[49m\u001b[38;5;28;43mself\u001b[39;49m\u001b[38;5;241;43m.\u001b[39;49m\u001b[43mresource_handle\u001b[49m\u001b[43m,\u001b[49m\u001b[43m \u001b[49m\u001b[43mkeys\u001b[49m\u001b[43m,\u001b[49m\n\u001b[1;32m   2229\u001b[0m \u001b[43m                                             \u001b[49m\u001b[43mvalues\u001b[49m\u001b[43m)\u001b[49m\n\u001b[1;32m   2230\u001b[0m \u001b[38;5;28;01mreturn\u001b[39;00m op\n",
      "File \u001b[0;32m~/.conda/envs/cuda_env/lib/python3.8/site-packages/tensorflow/python/ops/gen_lookup_ops.py:857\u001b[0m, in \u001b[0;36mlookup_table_insert_v2\u001b[0;34m(table_handle, keys, values, name)\u001b[0m\n\u001b[1;32m    855\u001b[0m   \u001b[38;5;28;01mreturn\u001b[39;00m _result\n\u001b[1;32m    856\u001b[0m \u001b[38;5;28;01mexcept\u001b[39;00m _core\u001b[38;5;241m.\u001b[39m_NotOkStatusException \u001b[38;5;28;01mas\u001b[39;00m e:\n\u001b[0;32m--> 857\u001b[0m   \u001b[43m_ops\u001b[49m\u001b[38;5;241;43m.\u001b[39;49m\u001b[43mraise_from_not_ok_status\u001b[49m\u001b[43m(\u001b[49m\u001b[43me\u001b[49m\u001b[43m,\u001b[49m\u001b[43m \u001b[49m\u001b[43mname\u001b[49m\u001b[43m)\u001b[49m\n\u001b[1;32m    858\u001b[0m \u001b[38;5;28;01mexcept\u001b[39;00m _core\u001b[38;5;241m.\u001b[39m_FallbackException:\n\u001b[1;32m    859\u001b[0m   \u001b[38;5;28;01mpass\u001b[39;00m\n",
      "File \u001b[0;32m~/.conda/envs/cuda_env/lib/python3.8/site-packages/tensorflow/python/framework/ops.py:7107\u001b[0m, in \u001b[0;36mraise_from_not_ok_status\u001b[0;34m(e, name)\u001b[0m\n\u001b[1;32m   7105\u001b[0m \u001b[38;5;28;01mdef\u001b[39;00m \u001b[38;5;21mraise_from_not_ok_status\u001b[39m(e, name):\n\u001b[1;32m   7106\u001b[0m   e\u001b[38;5;241m.\u001b[39mmessage \u001b[38;5;241m+\u001b[39m\u001b[38;5;241m=\u001b[39m (\u001b[38;5;124m\"\u001b[39m\u001b[38;5;124m name: \u001b[39m\u001b[38;5;124m\"\u001b[39m \u001b[38;5;241m+\u001b[39m name \u001b[38;5;28;01mif\u001b[39;00m name \u001b[38;5;129;01mis\u001b[39;00m \u001b[38;5;129;01mnot\u001b[39;00m \u001b[38;5;28;01mNone\u001b[39;00m \u001b[38;5;28;01melse\u001b[39;00m \u001b[38;5;124m\"\u001b[39m\u001b[38;5;124m\"\u001b[39m)\n\u001b[0;32m-> 7107\u001b[0m   \u001b[38;5;28;01mraise\u001b[39;00m core\u001b[38;5;241m.\u001b[39m_status_to_exception(e) \u001b[38;5;28;01mfrom\u001b[39;00m \u001b[38;5;28mNone\u001b[39m\n",
      "\u001b[0;31mInvalidArgumentError\u001b[0m: Expected shape [21] for value, got [21,20] [Op:LookupTableInsertV2]"
     ]
    }
   ],
   "source": [
    "# tf.constant(AA_CHEM_dict.keys())\n",
    "# table = tf.lookup.StaticHashTable(\n",
    "#     tf.lookup.KeyValueTensorInitializer(\n",
    "#         tf.constant(['A', 'C', 'D', 'E', 'F', 'G', 'H', 'I', 'K', 'L', 'M', 'N', 'P', 'Q', 'R', 'S', 'T', 'V', 'W', 'Y', 'X']),  # Vocabulary\n",
    "#         tf.constant([[-0.591, -1.302, -0.733, 1.57, -0.146, 0.62, -0.5, 15, 2.35, 9.87, 6.11, -1.338, -3.102, 0.52, 1.18, 4.349, -0.368, 0.36, 0.67, -9.475], [-1.343, 0.465, -0.862, -1.02, -0.255, 0.29, -1, 47, 1.71, 10.78, 5.02, -1.511, 0.957, 1.12, 1.89, 4.686, 4.53, 0.7, 0.38, -12.21], [1.05, 0.302, -3.656, -0.259, -3.242, -0.9, 3, 59, 1.88, 9.6, 2.98, -0.204, 0.424, 0.77, 0.05, 4.765, 2.06, -1.09, -1.2, -12.144], [1.357, -1.453, 1.477, 0.113, -0.837, -0.74, 3, 73, 2.19, 9.67, 3.08, -0.365, 2.009, 0.76, 0.11, 4.295, 1.77, -0.83, -0.76, -13.815], [-1.006, -0.59, 1.891, -0.397, 0.412, 1.19, -2.5, 91, 2.58, 9.24, 5.91, 2.877, -0.466, 0.86, 1.96, 4.663, 1.06, 1.01, 2.3, -20.504], [-0.384, 1.652, 1.33, 1.045, 2.064, 0.48, 0, 1, 2.34, 9.6, 6.06, -1.097, -2.746, 0.56, 0.49, 3.972, -0.525, -0.82, 0, -7.592], [0.336, -0.417, -1.673, -1.474, -0.078, -0.4, -0.5, 82, 1.78, 8.97, 7.64, 2.269, -0.223, 0.94, 0.31, 4.63, 0, 0.16, 0.64, -17.55], [-1.239, -0.547, 2.131, 0.393, 0.816, 1.38, -1.8, 57, 2.32, 9.76, 6.04, -1.741, 0.424, 0.65, 1.45, 4.224, 0.791, 2.17, 1.9, -15.608], [1.831, -0.561, 0.533, -0.277, 1.648, -1.5, 3, 73, 2.2, 8.9, 9.47, -1.822, 3.95, 0.81, 0.06, 4.358, 0, -0.56, -0.57, -12.366], [-1.019, -0.987, -1.505, 1.266, -0.912, 1.06, -1.8, 57, 2.36, 9.6, 6.04, -1.741, 0.424, 0.58, 3.23, 4.385, 1.07, 1.18, 1.9, -15.728], [-0.663, -1.524, 2.219, -1.005, 1.212, 0.64, -1.3, 75, 2.28, 9.21, 5.74, -1.741, 2.484, 1.25, 2.67, 4.513, 0.656, 1.21, 2.4, -15.704], [0.945, 0.828, 1.299, -0.169, 0.933, -0.78, 0.2, 58, 2.18, 9.09, 10.76, -0.204, 0.424, 0.79, 0.23, 4.755, 0, -0.9, -0.6, -12.48], [0.189, 2.081, -1.628, 0.421, -1.392, 0.12, 0, 42, 1.99, 10.6, 6.3, 1.979, -2.404, 0.61, 0.76, 4.471, -2.24, -0.06, 1.2, -11.893], [0.931, -0.179, -3.005, -0.503, -1.853, -0.85, 0.2, 72, 2.17, 9.13, 5.65, -0.365, 2.009, 0.86, 0.72, 4.373, 0.731, -1.05, -0.22, -13.689], [1.538, -0.055, 1.502, 0.44, 2.897, -2.53, 3, 101, 2.18, 9.09, 10.76, 1.169, 3.06, 0.6, 0.2, 4.396, -1.03, -0.52, -2.1, -16.225], [-0.228, 1.399, -4.76, 0.67, -2.647, -0.18, 0.3, 31, 2.21, 9.15, 5.68, -1.511, 0.957, 0.64, 0.97, 4.498, -0.524, -0.6, 0.01, -10.518], [-0.032, 0.326, 2.213, 0.908, 1.313, -0.05, -0.4, 45, 2.15, 9.12, 5.6, -1.641, -1.339, 0.56, 0.84, 4.346, 0, -1.2, 0.52, -12.369], [-1.337, -0.279, -0.544, 1.242, -1.262, 1.08, -1.5, 43, 2.29, 9.74, 6.02, -1.641, -1.339, 0.54, 1.08, 4.184, 0.401, 1.21, 1.5, -13.867], [-0.595, 0.009, 0.672, -2.128, -0.184, 0.81, -3.4, 130, 2.38, 9.39, 5.88, 5.913, -1, 1.82, 0.77, 4.702, 1.6, 1.31, 2.6, -26.166], [0.26, 0.83, 3.097, -0.838, 1.512, 0.26, -2.3, 107, 2.2, 9.11, 5.63, 2.714, -0.672, 0.98, 0.39, 4.604, 4.91, 1.05, 1.6, -20.232], [0, 0, 0, 0, 0, 0, 0, 0, 0, 0, 0, 0, 0, 0, 0, 0, 0, 0, 0, 0]])  # Pre-computed one-hot vectors\n",
    "#     ),default_value=-1\n",
    "# )\n",
    "table = tf.lookup.experimental.DenseHashTable(\n",
    "    key_dtype=tf.string,\n",
    "    value_dtype=tf.float32,\n",
    "    default_value=-1,\n",
    "    empty_key='',\n",
    "    deleted_key='$')\n",
    "keys = tf.constant(['A', 'C', 'D', 'E', 'F', 'G', 'H', 'I', 'K', 'L', 'M', 'N', 'P', 'Q', 'R', 'S', 'T', 'V', 'W', 'Y', 'X'])\n",
    "values =tf.constant([[-0.591, -1.302, -0.733, 1.57, -0.146, 0.62, -0.5, 15, 2.35, 9.87, 6.11, -1.338, -3.102, 0.52, 1.18, 4.349, -0.368, 0.36, 0.67, -9.475], [-1.343, 0.465, -0.862, -1.02, -0.255, 0.29, -1, 47, 1.71, 10.78, 5.02, -1.511, 0.957, 1.12, 1.89, 4.686, 4.53, 0.7, 0.38, -12.21], [1.05, 0.302, -3.656, -0.259, -3.242, -0.9, 3, 59, 1.88, 9.6, 2.98, -0.204, 0.424, 0.77, 0.05, 4.765, 2.06, -1.09, -1.2, -12.144], [1.357, -1.453, 1.477, 0.113, -0.837, -0.74, 3, 73, 2.19, 9.67, 3.08, -0.365, 2.009, 0.76, 0.11, 4.295, 1.77, -0.83, -0.76, -13.815], [-1.006, -0.59, 1.891, -0.397, 0.412, 1.19, -2.5, 91, 2.58, 9.24, 5.91, 2.877, -0.466, 0.86, 1.96, 4.663, 1.06, 1.01, 2.3, -20.504], [-0.384, 1.652, 1.33, 1.045, 2.064, 0.48, 0, 1, 2.34, 9.6, 6.06, -1.097, -2.746, 0.56, 0.49, 3.972, -0.525, -0.82, 0, -7.592], [0.336, -0.417, -1.673, -1.474, -0.078, -0.4, -0.5, 82, 1.78, 8.97, 7.64, 2.269, -0.223, 0.94, 0.31, 4.63, 0, 0.16, 0.64, -17.55], [-1.239, -0.547, 2.131, 0.393, 0.816, 1.38, -1.8, 57, 2.32, 9.76, 6.04, -1.741, 0.424, 0.65, 1.45, 4.224, 0.791, 2.17, 1.9, -15.608], [1.831, -0.561, 0.533, -0.277, 1.648, -1.5, 3, 73, 2.2, 8.9, 9.47, -1.822, 3.95, 0.81, 0.06, 4.358, 0, -0.56, -0.57, -12.366], [-1.019, -0.987, -1.505, 1.266, -0.912, 1.06, -1.8, 57, 2.36, 9.6, 6.04, -1.741, 0.424, 0.58, 3.23, 4.385, 1.07, 1.18, 1.9, -15.728], [-0.663, -1.524, 2.219, -1.005, 1.212, 0.64, -1.3, 75, 2.28, 9.21, 5.74, -1.741, 2.484, 1.25, 2.67, 4.513, 0.656, 1.21, 2.4, -15.704], [0.945, 0.828, 1.299, -0.169, 0.933, -0.78, 0.2, 58, 2.18, 9.09, 10.76, -0.204, 0.424, 0.79, 0.23, 4.755, 0, -0.9, -0.6, -12.48], [0.189, 2.081, -1.628, 0.421, -1.392, 0.12, 0, 42, 1.99, 10.6, 6.3, 1.979, -2.404, 0.61, 0.76, 4.471, -2.24, -0.06, 1.2, -11.893], [0.931, -0.179, -3.005, -0.503, -1.853, -0.85, 0.2, 72, 2.17, 9.13, 5.65, -0.365, 2.009, 0.86, 0.72, 4.373, 0.731, -1.05, -0.22, -13.689], [1.538, -0.055, 1.502, 0.44, 2.897, -2.53, 3, 101, 2.18, 9.09, 10.76, 1.169, 3.06, 0.6, 0.2, 4.396, -1.03, -0.52, -2.1, -16.225], [-0.228, 1.399, -4.76, 0.67, -2.647, -0.18, 0.3, 31, 2.21, 9.15, 5.68, -1.511, 0.957, 0.64, 0.97, 4.498, -0.524, -0.6, 0.01, -10.518], [-0.032, 0.326, 2.213, 0.908, 1.313, -0.05, -0.4, 45, 2.15, 9.12, 5.6, -1.641, -1.339, 0.56, 0.84, 4.346, 0, -1.2, 0.52, -12.369], [-1.337, -0.279, -0.544, 1.242, -1.262, 1.08, -1.5, 43, 2.29, 9.74, 6.02, -1.641, -1.339, 0.54, 1.08, 4.184, 0.401, 1.21, 1.5, -13.867], [-0.595, 0.009, 0.672, -2.128, -0.184, 0.81, -3.4, 130, 2.38, 9.39, 5.88, 5.913, -1, 1.82, 0.77, 4.702, 1.6, 1.31, 2.6, -26.166], [0.26, 0.83, 3.097, -0.838, 1.512, 0.26, -2.3, 107, 2.2, 9.11, 5.63, 2.714, -0.672, 0.98, 0.39, 4.604, 4.91, 1.05, 1.6, -20.232], [0, 0, 0, 0, 0, 0, 0, 0, 0, 0, 0, 0, 0, 0, 0, 0, 0, 0, 0, 0]])  # Pre-computed one-hot vectors\n",
    "table.insert(keys, values)\n",
    "# table.remove(tf.constant(['c']))\n",
    "# table.lookup(tf.constant(['a', 'b', 'c','d'])).numpy()\n"
   ]
  }
 ],
 "metadata": {
  "kernelspec": {
   "display_name": "cuda_env",
   "language": "python",
   "name": "cuda_env"
  },
  "language_info": {
   "codemirror_mode": {
    "name": "ipython",
    "version": 3
   },
   "file_extension": ".py",
   "mimetype": "text/x-python",
   "name": "python",
   "nbconvert_exporter": "python",
   "pygments_lexer": "ipython3",
   "version": "3.8.13"
  }
 },
 "nbformat": 4,
 "nbformat_minor": 5
}
